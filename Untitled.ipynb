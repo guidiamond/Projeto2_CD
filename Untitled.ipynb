{
 "cells": [
  {
   "cell_type": "code",
   "execution_count": 36,
   "metadata": {},
   "outputs": [],
   "source": [
    "import pandas as pd\n",
    "import numpy as np\n",
    "from nltk.stem import PorterStemmer\n",
    "ps = PorterStemmer()"
   ]
  },
  {
   "cell_type": "code",
   "execution_count": 152,
   "metadata": {},
   "outputs": [],
   "source": [
    "def limpeza_de_dados(treinamento, coluna):\n",
    "    dados_limpos = []\n",
    "    for e in treinamento[coluna]: #frase\n",
    "        limpeza = e.lower()\n",
    "        limpeza = limpeza.replace('\\n', '')\n",
    "        limpeza = limpeza.replace('#', '')\n",
    "        limpeza = limpeza.replace(':', '')\n",
    "        limpeza = limpeza.replace(',', '')\n",
    "        limpeza = limpeza.replace('.', '')\n",
    "        limpeza = limpeza.replace('/', '')\n",
    "        limpeza = limpeza.replace('//', '')\n",
    "        limpeza = limpeza.replace('...', '')\n",
    "        limpeza = limpeza.replace(';', '')\n",
    "        limpeza = limpeza.replace('\\'', '')\n",
    "        limpeza = limpeza.replace('rt', '')\n",
    "        limpeza = limpeza.split()\n",
    "        for palavra in limpeza:\n",
    "            if '@' in palavra or 'https' in palavra:\n",
    "                limpeza.remove(palavra)\n",
    "        dados_limpos.append(limpeza)\n",
    "    \n",
    "    return dados_limpos\n",
    "\n",
    "def calculador_probabilidades(dados_limpos, treinamento_raw_positivo, treinamento_raw_negativo):\n",
    "    probabilidade_palavra = {}\n",
    "    for e in dados_limpos"
   ]
  },
  {
   "cell_type": "code",
   "execution_count": 153,
   "metadata": {},
   "outputs": [],
   "source": [
    "#Leitura dos daods de treinamento\n",
    "leitura_excel_treinamento = pd.read_excel('tweets_apple.xlsx', sheet_name='Treinamento')\n",
    "\n",
    "# Divisao dos dados entre relevante e irrelevante (positivo/negativo)\n",
    "treinamento_raw_positivo = leitura_excel_treinamento[leitura_excel_treinamento.Relevancia==1]\n",
    "treinamento_raw_negativo = leitura_excel_treinamento[leitura_excel_treinamento.Relevancia==0]\n",
    "\n",
    "# # Limpeza dos dados (positivo/negativo)\n",
    "limpeza_positivo = limpeza_de_dados(treinamento_raw_positivo, 'Treinamento')\n",
    "limpeza_negativo = limpeza_de_dados(treinamento_raw_negativo, 'Treinamento')"
   ]
  },
  {
   "cell_type": "code",
   "execution_count": 154,
   "metadata": {},
   "outputs": [
    {
     "ename": "NameError",
     "evalue": "name 'prob_positivo' is not defined",
     "output_type": "error",
     "traceback": [
      "\u001b[1;31m---------------------------------------------------------------------------\u001b[0m",
      "\u001b[1;31mNameError\u001b[0m                                 Traceback (most recent call last)",
      "\u001b[1;32m<ipython-input-154-05defe80dfa3>\u001b[0m in \u001b[0;36m<module>\u001b[1;34m()\u001b[0m\n\u001b[1;32m----> 1\u001b[1;33m \u001b[0mprobabilidade\u001b[0m \u001b[1;33m=\u001b[0m \u001b[0mcalculador_probabilidades\u001b[0m\u001b[1;33m(\u001b[0m\u001b[0mlimpeza_positivo\u001b[0m\u001b[1;33m,\u001b[0m \u001b[0mtreinamento_raw_positivo\u001b[0m\u001b[1;33m,\u001b[0m \u001b[0mtreinamento_raw_negativo\u001b[0m\u001b[1;33m)\u001b[0m\u001b[1;33m\u001b[0m\u001b[0m\n\u001b[0m",
      "\u001b[1;32m<ipython-input-152-4303f6d0e5d8>\u001b[0m in \u001b[0;36mcalculador_probabilidades\u001b[1;34m(dados_limpos, treinamento_raw_positivo, treinamento_raw_negativo)\u001b[0m\n\u001b[0;32m     24\u001b[0m \u001b[1;32mdef\u001b[0m \u001b[0mcalculador_probabilidades\u001b[0m\u001b[1;33m(\u001b[0m\u001b[0mdados_limpos\u001b[0m\u001b[1;33m,\u001b[0m \u001b[0mtreinamento_raw_positivo\u001b[0m\u001b[1;33m,\u001b[0m \u001b[0mtreinamento_raw_negativo\u001b[0m\u001b[1;33m)\u001b[0m\u001b[1;33m:\u001b[0m\u001b[1;33m\u001b[0m\u001b[0m\n\u001b[0;32m     25\u001b[0m     \u001b[0mprob_total\u001b[0m \u001b[1;33m=\u001b[0m \u001b[0mlen\u001b[0m\u001b[1;33m(\u001b[0m\u001b[0mtreinamento_raw_positivo\u001b[0m\u001b[1;33m)\u001b[0m \u001b[1;33m+\u001b[0m \u001b[0mlen\u001b[0m\u001b[1;33m(\u001b[0m\u001b[0mtreinamento_raw_negativo\u001b[0m\u001b[1;33m)\u001b[0m\u001b[1;33m\u001b[0m\u001b[0m\n\u001b[1;32m---> 26\u001b[1;33m     \u001b[1;32mreturn\u001b[0m \u001b[0mprob_positivo\u001b[0m\u001b[1;33m\u001b[0m\u001b[0m\n\u001b[0m",
      "\u001b[1;31mNameError\u001b[0m: name 'prob_positivo' is not defined"
     ]
    }
   ],
   "source": [
    "probabilidade = calculador_probabilidades(limpeza_positivo, treinamento_raw_positivo, treinamento_raw_negativo)"
   ]
  },
  {
   "cell_type": "code",
   "execution_count": null,
   "metadata": {},
   "outputs": [],
   "source": [
    "#Leitura dos dados de teste\n",
    "leitura_excel_teste = pd.read_excel('tweets_apple.xlsx', sheet_name='Teste')\n",
    "\n",
    "#Limpeza dos dados\n",
    "teste_tratado = limpeza_de_dados(leitura_excel_teste, 'Teste')\n",
    "teste_tratado\n",
    "\n",
    "\n",
    "classificador = calculador_probabilidade(teste_tratado, laplace_probabilidade_positivo,laplace_probabilidade_negativo, probabilidade_positivo_total, probabilidade_negativo_total, prob_total)\n",
    "leitura_excel_teste['Classificador'] = classificador\n",
    "leitura_excel_teste"
   ]
  },
  {
   "cell_type": "code",
   "execution_count": null,
   "metadata": {},
   "outputs": [],
   "source": []
  }
 ],
 "metadata": {
  "kernelspec": {
   "display_name": "Python 3",
   "language": "python",
   "name": "python3"
  },
  "language_info": {
   "codemirror_mode": {
    "name": "ipython",
    "version": 3
   },
   "file_extension": ".py",
   "mimetype": "text/x-python",
   "name": "python",
   "nbconvert_exporter": "python",
   "pygments_lexer": "ipython3",
   "version": "3.6.4"
  }
 },
 "nbformat": 4,
 "nbformat_minor": 2
}
