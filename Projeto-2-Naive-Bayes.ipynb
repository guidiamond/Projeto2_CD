{
 "cells": [
  {
   "cell_type": "markdown",
   "metadata": {},
   "source": [
    "# Projeto 2 - Classificador Automático de Sentimento\n",
    "\n",
    "Você foi contratado por uma empresa parar analisar como os clientes estão reagindo a um determinado produto no Twitter. A empresa deseja que você crie um programa que irá analisar as mensagens disponíveis e classificará como \"relevante\" ou \"irrelevante\". Com isso ela deseja que mensagens negativas, que denigrem o nome do produto, ou que mereçam destaque, disparem um foco de atenção da área de marketing.<br /><br />\n",
    "Como aluno de Ciência dos Dados, você lembrou do Teorema de Bayes, mais especificamente do Classificador Naive-Bayes, que é largamente utilizado em filtros anti-spam de e-mails. O classificador permite calcular qual a probabilidade de uma mensagem ser relevante dadas as palavras em seu conteúdo.<br /><br />\n",
    "Para realizar o MVP (*minimum viable product*) do projeto, você precisa implementar uma versão do classificador que \"aprende\" o que é relevante com uma base de treinamento e compara a performance dos resultados com uma base de testes.<br /><br />\n",
    "Após validado, o seu protótipo poderá também capturar e classificar automaticamente as mensagens da plataforma.\n",
    "\n",
    "## Informações do Projeto\n",
    "\n",
    "Prazo: 19/Set até às 23:59.<br />\n",
    "Grupo: 2 ou 3 pessoas - grupos com 3 pessoas terá uma rubrica diferenciada.<br /><br />\n",
    "Entregáveis via GitHub: \n",
    "* Arquivo notebook com o código do classificador, seguindo as orientações abaixo.\n",
    "* Arquivo Excel com as bases de treinamento e teste totalmente classificado.\n",
    "\n",
    "**NÃO gravar a key do professor no arquivo**\n",
    "\n",
    "\n",
    "### Entrega Intermediária: Check 1 - APS 2\n",
    "\n",
    "Até o dia 10/Set às 23:59, xlsx deve estar no Github com as seguintes evidências: \n",
    "\n",
    "  * Produto escolhido.\n",
    "  * Arquivo Excel contendo a base de treinamento e a base de testes já classificadas.\n",
    "\n",
    "Sugestão de leitura:<br />\n",
    "https://monkeylearn.com/blog/practical-explanation-naive-bayes-classifier/"
   ]
  },
  {
   "cell_type": "markdown",
   "metadata": {},
   "source": [
    "___\n",
    "\n",
    "## Parte I - Adquirindo a Base de Dados\n",
    "\n",
    "Acessar o notebook **Projeto-2-Planilha** para realizar a coleta dos dados. O grupo deve classificar os dados coletados manualmente."
   ]
  },
  {
   "cell_type": "markdown",
   "metadata": {},
   "source": [
    "___\n",
    "## Parte II - Montando o Classificador Naive-Bayes\n",
    "\n",
    "Com a base de treinamento montada, comece a desenvolver o classificador. Não se esqueça de implementar o Laplace Smoothing (https://en.wikipedia.org/wiki/Laplace_smoothing).\n",
    "\n",
    "Opcionalmente: \n",
    "* Limpar as mensagens removendo os caracteres: enter, :, \", ', (, ), etc. Não remover emojis.<br />\n",
    "* Corrigir separação de espaços entre palavras e/ou emojis.\n",
    "* Propor outras limpezas/transformações que não afetem a qualidade da informação.\n",
    "\n",
    "Escreva o seu código abaixo:"
   ]
  },
  {
   "cell_type": "code",
   "execution_count": 64,
   "metadata": {},
   "outputs": [
    {
     "name": "stdout",
     "output_type": "stream",
     "text": [
      "{'rt': 117, '@applemusic:': 5, '#mariaimdrunk': 6, '@trvisxx': 5, 'x': 15, '@justinbieber': 5, '@youngthug': 5, 'listen': 7, 'now.': 6, 'https://t.co/dk92m3zwje': 5, '@complexmusic:': 14, '🙏🏽🔥': 14, '@trvisxx,': 14, '@justinbieber,': 14, '&amp;': 42, '@youngthug’s': 14, '“maria': 47, 'i’m': 48, 'drunk”': 47, 'is': 48, 'finally': 22, 'available': 20, 'to': 66, 'be': 14, 'streamed': 14, 'on': 54, 'tidal': 15, 'and': 32, 'apple': 95, 'musi…': 14, '@ftpflame:': 6, 'play': 9, 'music!': 6, 'https://t.co/hknhjs1rl3': 6, '@armybrigade13:': 1, '🎶': 3, '&lt;&lt;': 1, 'streaming': 5, 'links': 1, '&gt;&gt;': 1, 'spotify': 2, 'https://t.co/cdozl50dhp': 1, '…': 1, 'https://t.co/chxpwjklb9': 1, 'music': 32, 'https://t.co/j…': 1, 'food': 1, 'freedom,': 1, 'self': 2, 'love': 1, 'compassion...': 1, '#mustlisten': 1, 'https://t.co/dzdcnnq4ub': 1, '@ayeeitsmilly:': 1, 'new': 7, 'banger': 1, '“no': 1, 'feat”-': 1, '@joozy_joe': 1, '@dailyrapfacts:': 21, 'travis': 28, 'scott’s': 27, 'ft.': 21, 'justin': 21, 'bieber': 21, 'young': 21, 'thug': 21, '(off': 21, 'of': 31, 'rodeo)': 21, 'back': 22, 'https://t.co/kkj6g…': 21, '@hotfreestyle:': 6, 'has': 6, 'now': 8, 'been': 9, 'added': 6, '🍎': 6, 'https://t.co/lz0dig8nov': 6, '@seabrookskelvin:': 1, 'college': 1, 'student': 1, 'problems:': 1, 'taking': 14, 'that': 4, '$5.35': 1, 'out': 4, 'your': 4, 'account': 1, 'at': 51, 'the': 34, 'worst': 1, 'times': 1, 'damn': 1, 'they': 1, 'put': 2, 'this': 4, 'shit': 1, 'https://t.co/vkwt7i2m9z': 1, 'iphone': 4, '6': 1, '-': 6, '16gb,32gb,64gb': 1, '128gb': 1, '(unlocked)': 1, 'in': 35, 'condition': 1, 'https://t.co/ludnauy52v': 1, 'https://t.co/a1z75si6xe': 1, '@cgtnofficial:': 1, 'expected': 1, 'unveil': 1, 'models': 1, 'september': 3, '12.': 1, 'follow': 1, 'us': 6, 'for': 9, 'more.': 1, 'finally!': 1, 'just': 2, 'jones': 4, 'being': 1, 'well': 1, 'alex': 3, 'jones.': 1, '“that': 1, 'particular': 1, 'broadside': 1, 'was': 1, 'last': 1, 'straw': 1, 'twitter': 2, 'seems': 1, 'curious.': 1, 'yes,': 1, 'had': 2, 'plenty': 1, 'reason': 1, 'suspend': 1, 'thursday.': 1, 'but': 1, 'it': 3, 'as': 2, 'many': 1, 'reasons': 1, 'a': 8, 'week': 3, 'ago': 1, 'before': 3, 'that...”': 1, 'https://t.co/qyn4qkti7h': 1, '@amymek:': 2, 'who': 3, 'cares': 2, 'if': 3, 'you': 9, 'like': 2, 'or': 3, 'infowars,': 2, \"that's\": 3, 'not': 2, 'point.': 2, 'tech': 2, 'companies': 2, 'are': 4, 'colluding': 2, 'purge': 2, 'all': 5, 'voices': 2, 'from': 5, 'i…': 2, '➜very': 1, 'very': 4, 'berry': 1, 'release': 1, '-utopia-': 1, 'https://t.co/cwavaavpom': 1, '#musiikki': 1, '#japani': 1, '#tiedot': 1, 'hires': 1, 'former': 2, 'conde': 1, 'nast': 1, 'executive': 1, 'bolster': 1, 'news': 2, 'business': 1, 'https://t.co/aiah9w1hwr': 1, '@zaschamaay:': 1, 'scott': 1, 'maria': 1, 'im': 1, 'drunk': 1, 'misic': 1, 'ahshdjdndksjdbx': 1, 'its': 2, '3': 1, 'years': 1, 'https://t.co/zibechwwgw': 1, 'plus': 3, 'picking': 1, 'guide,': 1, 'tariffs': 1, 'threaten': 1, 'york': 1, 'industries': 1, 'more:': 1, 'nearby': 1, 'news.': 1, 'https://t.co/enqk0fvysn': 1, '@vlcker77:': 23, 'line': 23, 'mcdonald’s....': 23, 'shitty': 23, 'little': 23, 'kid': 23, 'behind': 23, 'me': 23, 'screaming': 23, 'he': 36, 'wants': 23, 'an': 25, 'pie': 24, 'his': 37, 'mother...': 23, 'i': 27, 'get': 24, 'counter...…': 23, '@bynoothername:': 13, 'looks': 13, 'so': 16, 'genuinely': 13, 'happy': 13, 'pic.': 13, 'that’s': 13, 'cinnamon': 14, 'apple.': 14, 'https://t.co/eefe47g56v': 13, '@casspernyovest:': 1, '.@l_tido': 1, '‘s': 1, 'single': 1, 'featuring': 2, 'yours': 1, 'truly.': 1, 'click': 1, 'link': 1, 'buy': 2, '#zilele': 1, ':': 1, 'https://t.co/yqogzncuxb': 1, '@nickireignscom:': 2, 'send': 5, 'some': 1, 'screenshots': 4, '#idol': 1, '@nickiminaj': 1, 'by': 2, 'bts': 2, 'now!': 1, '#idolstreamingparty': 1, 'tidal:': 5, 'https://…': 2, '@wmata': 1, 'great': 1, 'idea.': 1, 'can': 1, 'suggest': 1, 'pay': 1, 'capabilities?': 1, 'used': 1, 'public': 1, 'transport': 1, 'london': 1, 'time': 2, 'it’s': 2, 'fast,': 1, 'efficient': 1, 'easy!': 2, 'trvisxx': 1, 'justinbieber': 1, 'youngthug': 1, 'https://t.co/ye1bm5exf9': 1, '#love': 1, '#music': 1, '#life': 1, '@dprivedbisexual': 1, 'group': 1, 'called': 1, 'r.a.i.n': 1, 'igloo': 1, 'nappers': 1, 'applying': 1, 'nicely': 1, 'actors': 1, 'nickel': 1, '@spectatorindex:': 1, \"world's\": 1, 'most': 1, 'powerful': 1, 'ceos': 1, '1.': 1, 'jeff': 1, 'bezos': 1, '(amazon)': 1, '2.': 1, 'larry': 1, 'page': 1, '(alphabet)': 1, '3.': 1, 'zuckerberg': 1, '(facebook)': 1, '4.': 1, 'warren': 1, 'buffett…': 1, '@evecinflo:': 1, 'makes': 1, 'copping': 1, '@leannacavazos': 1, 'ur': 3, 'my': 4, 'fucking': 2, '@chriselladaniel:': 1, 'midnight': 1, 'tonight': 1, 'y’all,': 1, '“feelin': 1, 'good': 1, 'now”': 1, 'drops': 1, 'social': 1, 'media': 1, 'platforms': 1, 'apple,': 2, 'spotify,': 1, 'soundcloud,': 1, 'list': 1, 'goes': 1, 'on…': 1, '@ebonymacarthy:': 1, 'need': 1, 'update': 1, 'their': 1, 'whole': 1, 'imessage': 1, 'system.': 1, 'can’t': 1, 'multiple': 1, 'pics': 1, 'time,': 1, 'voice': 1, 'record': 1, 'shit,': 1, 'whol…': 1, '@omega_luke:': 1, '#followfriday': 1, 'build': 1, '#wrestlingcommunity': 1, '#rt': 1, '#like': 1, '#follow': 1, 'everyone': 1, 'does': 2, 'includi…': 1, '@emmteekay:': 1, 'someone': 1, '@apple': 1, 'sneak': 1, 'room': 1, 'night': 1, 'cut': 1, 'chargers': 1, 'have': 3, 'ones': 1, 'bc': 1, 'mine': 1, 'starting…': 1, 'provide': 1, 'online': 1, 'tool': 1, 'police': 1, 'request': 1, 'data:': 1, 'letter': 1, 'https://t.co/q9wyikkaei': 1, '#usa': 1, '#us': 1, '#usbiz': 1, '@btschartdata:': 3, 'idol!': 3, 'https://t.co/enf4sa97eo': 3, 'spotify:': 4, 'https://t.co/dawt66ngtc': 3, 'apple…': 3, 'what': 2, 'expect': 1, 'apple’s': 2, '12': 1, 'event': 2, 'hosting': 1, 'annual': 1, 'fall': 1, '12,': 1, 'means': 1, 'iphones': 1, '–': 1, 'maybe': 1, 'bunch': 1, 'other': 1, 'things': 1, 'too.': 1, 'usual,': 1, 'leaks': 1, 'rumors': 2, 'already': 1, 'painted': 1, 'big': 1, 'picture': 1, 'exp…': 1, 'https://t.co/aqttjfurc2': 1, \"i'm\": 1, 'running': 1, 'win': 1, '@smartdnsproxy': 1, '#giveaway': 2, '#smartdns': 1, '#vpn': 1, 'https://t.co/3nqbqvvvtw': 1, 'snowball,': 1, 'dignified': 1, 'elderly': 1, 'hamster,': 1, 'wishes': 1, 'eat': 1, 'slice': 1, 'private.': 1, 'https://t.co/pddtp6uma9': 1, '@joefreedomlove:': 2, 'macron': 1, 'takes': 1, 'election': 1, 'dig': 1, \"merkel's\": 1, 'party': 1, 'over': 1, 'hungary': 1, 'reuters': 1, 'https://t.co/9r9bmtyixz': 1, '@drjaydrno': 1, 'lol': 1, \"i'd\": 1, 'blame': 1, '😉': 1, '@slimmbody7:': 2, 'juice': 2, 'better': 2, 'then': 2, 'orange': 2, 'juice.': 2, 'l': 1, 'don’t': 2, 'school': 1, 'money': 1, 'till': 1, '9/25': 1, 'closest': 1, 'store': 1, '2': 1, 'hours': 1, 'away': 1, ':(': 1, 'https://t.co/6nfvu8h8vg': 1, '@h3h3productions:': 2, 'h3h3': 2, 'ball': 2, 'rider': 2, 'free': 2, 'dang': 2, 'mobile': 2, 'store!': 2, \"we've\": 2, 'working': 2, 'secret': 2, 'with': 2, '@outerminds': 2, 'ov…': 2, '@12amusa:': 1, 'listen,': 1, 'subscribe,': 1, 'review': 2, '@itunes': 1, 'https://t.co/7tuwvcuqjt': 1, '#mia': 1, '#paranormal': 1, '#comedy': 1, '#podcast': 1, 'freaks': 1, 'go': 1, '#allin': 1, 'show..': 1, '#ufc': 1, '229': 1, 'talk,': 1, 'where': 1, 'da': 1, 'hype?': 1, '#boxing': 1, 'fans': 1, 'we': 2, 'got': 1, 'you..': 1, '#garciaporter': 1, 'predictions.': 1, 'oh': 1, 'want': 2, '#wwe2k19': 1, 'release?': 1, 'enter': 1, 'our': 1, '#wwe': 1, 'details!': 1, 'google': 2, 'https://t.co/jzu7kp1lkn': 1, 'itunes': 1, 'https://t.co/gr3jfi76ws': 1, 'https://t.co/qntg1uiv5j': 1, '@top__today': 1, 'idk.': 1, \"it's\": 1, 'convenient': 1, \"they're\": 1, 'doing': 1, 'something': 1, 'tomorrow': 1, 'vague': 1, 'talked': 1, 'about': 1, '7th': 1, 'too': 1, 'senior': 1, 'diplomat': 1, 'warns': 1, \"'at\": 1, 'dangerous': 1, \"place'\": 1, 'cnn': 1, 'politics': 1, 'https://t.co/x3vd5ks2wh': 1, '@bts_billboard:': 1, 'less': 1, 'than': 1, '6h': 1, 'left': 1, 'sales': 1, 'streams': 1, 'tracking-week': 1, 'ends.': 1, 'army': 1, '🇺🇲': 1, '🇵🇷,': 1, 'keep': 1, 'buying': 1, '\"idol\"': 1, '\"idol(ft.': 1, 'nicki…': 1, 'north': 1, 'korean': 1, 'computer': 1, 'programmer': 1, 'charged': 1, 'justice': 1, 'department': 1, '2014': 1, 'sony': 1, 'hack': 1, 'fox': 1, 'https://t.co/f46ek8g7ev': 1, 'looking': 1, 'around': 1, \"apple's\": 1, \"'iphone\": 2, \"9,'\": 1, \"xs,'\": 1, 'airpower': 1, 'more': 1, 'appleinsider': 1, 'https://t.co/fiydwxnqf1': 1, 'https://t.co/ayuyz72jyu': 1, '@getongab': 1, 'do': 1, 'guys': 1, 'apps': 1, 'android': 1, 'ios': 1, 'w/': 1, 'you?': 1, 'yo': 1, 'mama': 1, 'nicki': 1, 'minaj': 1, 'https://t.co/jmlqzgbqce': 1, 'https://t.co/a4yiwaxob0': 1, 'music:': 1, 'https://t.co/pwjtgxa…': 1, '@kevin_holloway:': 1, 'exclusive:': 1, 'ceo': 1, 'daniel': 1, 'ek': 1, 'facebook,': 1, 'netflix–and': 1, 'future': 1, '$spot': 1, '&gt;': 1, 'interesting': 1, 'interview': 1, '@burnitdownpod:': 1, 'ep': 1, '70': 1, 'up!': 1, 'discuss': 1, 'steph': 1, 'curry': 1, 'male': 1, 'allyship,': 1, 'policing': 1, 'women’s': 1, 'bodies': 1, 'sports,': 1, 'inter…': 1}\n",
      "632\n"
     ]
    },
    {
     "ename": "AttributeError",
     "evalue": "'float' object has no attribute 'split'",
     "output_type": "error",
     "traceback": [
      "\u001b[1;31m---------------------------------------------------------------------------\u001b[0m",
      "\u001b[1;31mAttributeError\u001b[0m                            Traceback (most recent call last)",
      "\u001b[1;32m<ipython-input-64-76dc0572af6f>\u001b[0m in \u001b[0;36m<module>\u001b[1;34m()\u001b[0m\n\u001b[0;32m     31\u001b[0m \u001b[1;33m\u001b[0m\u001b[0m\n\u001b[0;32m     32\u001b[0m \u001b[1;32mfor\u001b[0m \u001b[0me\u001b[0m \u001b[1;32min\u001b[0m \u001b[0mtreinamento_negativo\u001b[0m\u001b[1;33m[\u001b[0m\u001b[1;34m\"Treinamento\"\u001b[0m\u001b[1;33m]\u001b[0m\u001b[1;33m:\u001b[0m\u001b[1;33m\u001b[0m\u001b[0m\n\u001b[1;32m---> 33\u001b[1;33m     \u001b[1;32mfor\u001b[0m \u001b[0mx\u001b[0m \u001b[1;32min\u001b[0m \u001b[0me\u001b[0m\u001b[1;33m.\u001b[0m\u001b[0msplit\u001b[0m\u001b[1;33m(\u001b[0m\u001b[1;33m)\u001b[0m\u001b[1;33m:\u001b[0m\u001b[1;33m\u001b[0m\u001b[0m\n\u001b[0m\u001b[0;32m     34\u001b[0m         \u001b[1;32mif\u001b[0m \u001b[0mx\u001b[0m \u001b[1;32mnot\u001b[0m \u001b[1;32min\u001b[0m \u001b[0mdicionario_nao_apple\u001b[0m\u001b[1;33m:\u001b[0m\u001b[1;33m\u001b[0m\u001b[0m\n\u001b[0;32m     35\u001b[0m             \u001b[0mdicionario_nao_apple\u001b[0m\u001b[1;33m[\u001b[0m\u001b[0mx\u001b[0m\u001b[1;33m]\u001b[0m \u001b[1;33m=\u001b[0m \u001b[1;36m1\u001b[0m\u001b[1;33m\u001b[0m\u001b[0m\n",
      "\u001b[1;31mAttributeError\u001b[0m: 'float' object has no attribute 'split'"
     ]
    }
   ],
   "source": [
    "import pandas as pd\n",
    "\n",
    "leitura_excel = pd.read_excel('tweets_apple.xlsx', sheet_name=0)\n",
    "\n",
    "treinamento_positivo = leitura_excel[treinamento['Relevancia']==1]\n",
    "treinamento_negativo = leitura_excel[treinamento['Relevancia']==0]\n",
    "\n",
    "\n",
    "#criando o dicionario Apple\n",
    "    \n",
    "dicionario_apple= {}\n",
    "\n",
    "for e in treinamento_positivo[\"Treinamento\"]:    \n",
    "    for x in e.split():\n",
    "        if x not in dicionario_apple:\n",
    "            dicionario_apple[x] = 1\n",
    "        elif x in dicionario_apple:\n",
    "            dicionario_apple[x] += 1\n",
    "    \n",
    "             \n",
    "print(dicionario_apple)\n",
    "print(len(dicionario_apple))\n",
    "\n",
    "\n",
    "\n",
    "#criando o dicionario não Apple\n",
    "\n",
    "\n",
    "\n",
    "dicionario_nao_apple= {}\n",
    "\n",
    "for e in treinamento_negativo[\"Treinamento\"]:    \n",
    "    for x in e.split():\n",
    "        if x not in dicionario_nao_apple:\n",
    "            dicionario_nao_apple[x] = 1\n",
    "        elif x in dicionario_nao_apple:\n",
    "            dicionario_nao_apple[x] += 1\n",
    "   \n",
    "             \n",
    "print(dicionario_nao_apple)\n",
    "print(len(dicionario_nao_apple))\n",
    "    \n",
    "    \n",
    "\n",
    "\n",
    "\n",
    "\n"
   ]
  },
  {
   "cell_type": "markdown",
   "metadata": {},
   "source": [
    "___\n",
    "## Verificando a performance\n",
    "\n",
    "Agora você deve testar o seu Classificador com a base de Testes.<br /><br /> \n",
    "\n",
    "Você deve extrair as seguintes medidas:\n",
    "* Porcentagem de positivos falsos (marcados como relevante mas não são relevantes)\n",
    "* Porcentagem de positivos verdadeiros (marcado como relevante e são relevantes)\n",
    "* Porcentagem de negativos verdadeiros (marcado como não relevante e não são relevantes)\n",
    "* Porcentagem de negativos falsos (marcado como não relevante e são relevantes)\n",
    "\n",
    "Obrigatório para grupos de 3 alunos:\n",
    "* Criar categorias intermediárias de relevância baseado na diferença de probabilidades. Exemplo: muito relevante, relevante, neutro, irrelevante e muito irrelevante."
   ]
  },
  {
   "cell_type": "code",
   "execution_count": null,
   "metadata": {
    "scrolled": true
   },
   "outputs": [],
   "source": []
  },
  {
   "cell_type": "markdown",
   "metadata": {},
   "source": [
    "___\n",
    "## Concluindo\n",
    "\n",
    "Escreva aqui a sua conclusão.<br /> \n",
    "Faça um comparativo qualitativo sobre as medidas obtidas.<br />\n",
    "Explique como são tratadas as mensagens com dupla negação e sarcasmo.<br />\n",
    "Proponha um plano de expansão. Por que eles devem continuar financiando o seu projeto?<br />\n",
    "\n",
    "Opcionalmente: \n",
    "* Discorrer por que não posso alimentar minha base de Treinamento automaticamente usando o próprio classificador, aplicado a novos tweets.\n",
    "* Propor diferentes cenários de uso para o classificador Naive-Bayes. Cenários sem intersecção com este projeto.\n",
    "* Sugerir e explicar melhorias reais no classificador com indicações concretas de como implementar (não é preciso codificar, mas indicar como fazer e material de pesquisa sobre o assunto).\n"
   ]
  },
  {
   "cell_type": "code",
   "execution_count": null,
   "metadata": {},
   "outputs": [],
   "source": []
  }
 ],
 "metadata": {
  "kernelspec": {
   "display_name": "Python 3",
   "language": "python",
   "name": "python3"
  },
  "language_info": {
   "codemirror_mode": {
    "name": "ipython",
    "version": 3
   },
   "file_extension": ".py",
   "mimetype": "text/x-python",
   "name": "python",
   "nbconvert_exporter": "python",
   "pygments_lexer": "ipython3",
   "version": "3.6.4"
  }
 },
 "nbformat": 4,
 "nbformat_minor": 2
}
